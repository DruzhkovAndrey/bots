{
 "cells": [
  {
   "cell_type": "code",
   "execution_count": 46,
   "id": "b76e8171",
   "metadata": {},
   "outputs": [
    {
     "name": "stdout",
     "output_type": "stream",
     "text": [
      "2021-11-22 21:56:47\n"
     ]
    },
    {
     "ename": "OperationalError",
     "evalue": "near \"21\": syntax error",
     "output_type": "error",
     "traceback": [
      "\u001b[1;31m---------------------------------------------------------------------------\u001b[0m",
      "\u001b[1;31mOperationalError\u001b[0m                          Traceback (most recent call last)",
      "\u001b[1;32m~\\AppData\\Local\\Temp/ipykernel_14316/1783496870.py\u001b[0m in \u001b[0;36m<module>\u001b[1;34m\u001b[0m\n\u001b[0;32m     23\u001b[0m \u001b[1;33m\u001b[0m\u001b[0m\n\u001b[0;32m     24\u001b[0m \u001b[1;33m\u001b[0m\u001b[0m\n\u001b[1;32m---> 25\u001b[1;33m \u001b[0mbot\u001b[0m\u001b[1;33m.\u001b[0m\u001b[0mpolling\u001b[0m\u001b[1;33m(\u001b[0m\u001b[1;33m)\u001b[0m\u001b[1;33m\u001b[0m\u001b[1;33m\u001b[0m\u001b[0m\n\u001b[0m",
      "\u001b[1;32m~\\Python\\Python39\\lib\\site-packages\\telebot\\__init__.py\u001b[0m in \u001b[0;36mpolling\u001b[1;34m(self, non_stop, skip_pending, interval, timeout, long_polling_timeout, allowed_updates, none_stop)\u001b[0m\n\u001b[0;32m    658\u001b[0m \u001b[1;33m\u001b[0m\u001b[0m\n\u001b[0;32m    659\u001b[0m         \u001b[1;32mif\u001b[0m \u001b[0mself\u001b[0m\u001b[1;33m.\u001b[0m\u001b[0mthreaded\u001b[0m\u001b[1;33m:\u001b[0m\u001b[1;33m\u001b[0m\u001b[1;33m\u001b[0m\u001b[0m\n\u001b[1;32m--> 660\u001b[1;33m             \u001b[0mself\u001b[0m\u001b[1;33m.\u001b[0m\u001b[0m__threaded_polling\u001b[0m\u001b[1;33m(\u001b[0m\u001b[0mnon_stop\u001b[0m\u001b[1;33m,\u001b[0m \u001b[0minterval\u001b[0m\u001b[1;33m,\u001b[0m \u001b[0mtimeout\u001b[0m\u001b[1;33m,\u001b[0m \u001b[0mlong_polling_timeout\u001b[0m\u001b[1;33m,\u001b[0m \u001b[0mallowed_updates\u001b[0m\u001b[1;33m)\u001b[0m\u001b[1;33m\u001b[0m\u001b[1;33m\u001b[0m\u001b[0m\n\u001b[0m\u001b[0;32m    661\u001b[0m         \u001b[1;32melse\u001b[0m\u001b[1;33m:\u001b[0m\u001b[1;33m\u001b[0m\u001b[1;33m\u001b[0m\u001b[0m\n\u001b[0;32m    662\u001b[0m             \u001b[0mself\u001b[0m\u001b[1;33m.\u001b[0m\u001b[0m__non_threaded_polling\u001b[0m\u001b[1;33m(\u001b[0m\u001b[0mnon_stop\u001b[0m\u001b[1;33m,\u001b[0m \u001b[0minterval\u001b[0m\u001b[1;33m,\u001b[0m \u001b[0mtimeout\u001b[0m\u001b[1;33m,\u001b[0m \u001b[0mlong_polling_timeout\u001b[0m\u001b[1;33m,\u001b[0m \u001b[0mallowed_updates\u001b[0m\u001b[1;33m)\u001b[0m\u001b[1;33m\u001b[0m\u001b[1;33m\u001b[0m\u001b[0m\n",
      "\u001b[1;32m~\\Python\\Python39\\lib\\site-packages\\telebot\\__init__.py\u001b[0m in \u001b[0;36m__threaded_polling\u001b[1;34m(self, non_stop, interval, timeout, long_polling_timeout, allowed_updates)\u001b[0m\n\u001b[0;32m    720\u001b[0m                     \u001b[0mpolling_thread\u001b[0m\u001b[1;33m.\u001b[0m\u001b[0mclear_exceptions\u001b[0m\u001b[1;33m(\u001b[0m\u001b[1;33m)\u001b[0m   \u001b[1;31m#*\u001b[0m\u001b[1;33m\u001b[0m\u001b[1;33m\u001b[0m\u001b[0m\n\u001b[0;32m    721\u001b[0m                     \u001b[0mself\u001b[0m\u001b[1;33m.\u001b[0m\u001b[0mworker_pool\u001b[0m\u001b[1;33m.\u001b[0m\u001b[0mclear_exceptions\u001b[0m\u001b[1;33m(\u001b[0m\u001b[1;33m)\u001b[0m \u001b[1;31m#*\u001b[0m\u001b[1;33m\u001b[0m\u001b[1;33m\u001b[0m\u001b[0m\n\u001b[1;32m--> 722\u001b[1;33m                     \u001b[1;32mraise\u001b[0m \u001b[0me\u001b[0m\u001b[1;33m\u001b[0m\u001b[1;33m\u001b[0m\u001b[0m\n\u001b[0m\u001b[0;32m    723\u001b[0m                 \u001b[1;32melse\u001b[0m\u001b[1;33m:\u001b[0m\u001b[1;33m\u001b[0m\u001b[1;33m\u001b[0m\u001b[0m\n\u001b[0;32m    724\u001b[0m                     \u001b[0mpolling_thread\u001b[0m\u001b[1;33m.\u001b[0m\u001b[0mclear_exceptions\u001b[0m\u001b[1;33m(\u001b[0m\u001b[1;33m)\u001b[0m\u001b[1;33m\u001b[0m\u001b[1;33m\u001b[0m\u001b[0m\n",
      "\u001b[1;32m~\\Python\\Python39\\lib\\site-packages\\telebot\\__init__.py\u001b[0m in \u001b[0;36m__threaded_polling\u001b[1;34m(self, non_stop, interval, timeout, long_polling_timeout, allowed_updates)\u001b[0m\n\u001b[0;32m    680\u001b[0m                 \u001b[0mor_event\u001b[0m\u001b[1;33m.\u001b[0m\u001b[0mwait\u001b[0m\u001b[1;33m(\u001b[0m\u001b[1;33m)\u001b[0m  \u001b[1;31m# wait for polling thread finish, polling thread error or thread pool error\u001b[0m\u001b[1;33m\u001b[0m\u001b[1;33m\u001b[0m\u001b[0m\n\u001b[0;32m    681\u001b[0m                 \u001b[0mpolling_thread\u001b[0m\u001b[1;33m.\u001b[0m\u001b[0mraise_exceptions\u001b[0m\u001b[1;33m(\u001b[0m\u001b[1;33m)\u001b[0m\u001b[1;33m\u001b[0m\u001b[1;33m\u001b[0m\u001b[0m\n\u001b[1;32m--> 682\u001b[1;33m                 \u001b[0mself\u001b[0m\u001b[1;33m.\u001b[0m\u001b[0mworker_pool\u001b[0m\u001b[1;33m.\u001b[0m\u001b[0mraise_exceptions\u001b[0m\u001b[1;33m(\u001b[0m\u001b[1;33m)\u001b[0m\u001b[1;33m\u001b[0m\u001b[1;33m\u001b[0m\u001b[0m\n\u001b[0m\u001b[0;32m    683\u001b[0m                 \u001b[0merror_interval\u001b[0m \u001b[1;33m=\u001b[0m \u001b[1;36m0.25\u001b[0m\u001b[1;33m\u001b[0m\u001b[1;33m\u001b[0m\u001b[0m\n\u001b[0;32m    684\u001b[0m             \u001b[1;32mexcept\u001b[0m \u001b[0mapihelper\u001b[0m\u001b[1;33m.\u001b[0m\u001b[0mApiException\u001b[0m \u001b[1;32mas\u001b[0m \u001b[0me\u001b[0m\u001b[1;33m:\u001b[0m\u001b[1;33m\u001b[0m\u001b[1;33m\u001b[0m\u001b[0m\n",
      "\u001b[1;32m~\\Python\\Python39\\lib\\site-packages\\telebot\\util.py\u001b[0m in \u001b[0;36mraise_exceptions\u001b[1;34m(self)\u001b[0m\n\u001b[0;32m    133\u001b[0m     \u001b[1;32mdef\u001b[0m \u001b[0mraise_exceptions\u001b[0m\u001b[1;33m(\u001b[0m\u001b[0mself\u001b[0m\u001b[1;33m)\u001b[0m\u001b[1;33m:\u001b[0m\u001b[1;33m\u001b[0m\u001b[1;33m\u001b[0m\u001b[0m\n\u001b[0;32m    134\u001b[0m         \u001b[1;32mif\u001b[0m \u001b[0mself\u001b[0m\u001b[1;33m.\u001b[0m\u001b[0mexception_event\u001b[0m\u001b[1;33m.\u001b[0m\u001b[0mis_set\u001b[0m\u001b[1;33m(\u001b[0m\u001b[1;33m)\u001b[0m\u001b[1;33m:\u001b[0m\u001b[1;33m\u001b[0m\u001b[1;33m\u001b[0m\u001b[0m\n\u001b[1;32m--> 135\u001b[1;33m             \u001b[1;32mraise\u001b[0m \u001b[0mself\u001b[0m\u001b[1;33m.\u001b[0m\u001b[0mexception_info\u001b[0m\u001b[1;33m\u001b[0m\u001b[1;33m\u001b[0m\u001b[0m\n\u001b[0m\u001b[0;32m    136\u001b[0m \u001b[1;33m\u001b[0m\u001b[0m\n\u001b[0;32m    137\u001b[0m     \u001b[1;32mdef\u001b[0m \u001b[0mclear_exceptions\u001b[0m\u001b[1;33m(\u001b[0m\u001b[0mself\u001b[0m\u001b[1;33m)\u001b[0m\u001b[1;33m:\u001b[0m\u001b[1;33m\u001b[0m\u001b[1;33m\u001b[0m\u001b[0m\n",
      "\u001b[1;32m~\\Python\\Python39\\lib\\site-packages\\telebot\\util.py\u001b[0m in \u001b[0;36mrun\u001b[1;34m(self)\u001b[0m\n\u001b[0;32m     85\u001b[0m                 \u001b[0mself\u001b[0m\u001b[1;33m.\u001b[0m\u001b[0mreceived_task_event\u001b[0m\u001b[1;33m.\u001b[0m\u001b[0mset\u001b[0m\u001b[1;33m(\u001b[0m\u001b[1;33m)\u001b[0m\u001b[1;33m\u001b[0m\u001b[1;33m\u001b[0m\u001b[0m\n\u001b[0;32m     86\u001b[0m \u001b[1;33m\u001b[0m\u001b[0m\n\u001b[1;32m---> 87\u001b[1;33m                 \u001b[0mtask\u001b[0m\u001b[1;33m(\u001b[0m\u001b[1;33m*\u001b[0m\u001b[0margs\u001b[0m\u001b[1;33m,\u001b[0m \u001b[1;33m**\u001b[0m\u001b[0mkwargs\u001b[0m\u001b[1;33m)\u001b[0m\u001b[1;33m\u001b[0m\u001b[1;33m\u001b[0m\u001b[0m\n\u001b[0m\u001b[0;32m     88\u001b[0m                 \u001b[0mlogger\u001b[0m\u001b[1;33m.\u001b[0m\u001b[0mdebug\u001b[0m\u001b[1;33m(\u001b[0m\u001b[1;34m\"Task complete\"\u001b[0m\u001b[1;33m)\u001b[0m\u001b[1;33m\u001b[0m\u001b[1;33m\u001b[0m\u001b[0m\n\u001b[0;32m     89\u001b[0m                 \u001b[0mself\u001b[0m\u001b[1;33m.\u001b[0m\u001b[0mdone_event\u001b[0m\u001b[1;33m.\u001b[0m\u001b[0mset\u001b[0m\u001b[1;33m(\u001b[0m\u001b[1;33m)\u001b[0m\u001b[1;33m\u001b[0m\u001b[1;33m\u001b[0m\u001b[0m\n",
      "\u001b[1;32m~\\AppData\\Local\\Temp/ipykernel_14316/1783496870.py\u001b[0m in \u001b[0;36mget_text_messages\u001b[1;34m(message)\u001b[0m\n\u001b[0;32m     10\u001b[0m \u001b[1;32mdef\u001b[0m \u001b[0mget_text_messages\u001b[0m\u001b[1;33m(\u001b[0m\u001b[0mmessage\u001b[0m\u001b[1;33m)\u001b[0m\u001b[1;33m:\u001b[0m\u001b[1;33m\u001b[0m\u001b[1;33m\u001b[0m\u001b[0m\n\u001b[0;32m     11\u001b[0m     \u001b[1;32mif\u001b[0m \u001b[0mmessage\u001b[0m\u001b[1;33m.\u001b[0m\u001b[0mtext\u001b[0m \u001b[1;33m==\u001b[0m \u001b[1;34m\"/Idiom\"\u001b[0m\u001b[1;33m:\u001b[0m\u001b[1;33m\u001b[0m\u001b[1;33m\u001b[0m\u001b[0m\n\u001b[1;32m---> 12\u001b[1;33m         \u001b[0mrows\u001b[0m \u001b[1;33m=\u001b[0m \u001b[0mget_idiom\u001b[0m\u001b[1;33m(\u001b[0m\u001b[0mbot\u001b[0m\u001b[1;33m,\u001b[0m \u001b[0mmessage\u001b[0m\u001b[1;33m)\u001b[0m\u001b[1;33m\u001b[0m\u001b[1;33m\u001b[0m\u001b[0m\n\u001b[0m\u001b[0;32m     13\u001b[0m     \u001b[1;31m#bot.send_message(message.from_user.id, \"Привет, чем я могу тебе помочь?\")\u001b[0m\u001b[1;33m\u001b[0m\u001b[1;33m\u001b[0m\u001b[0m\n\u001b[0;32m     14\u001b[0m     \u001b[1;32melif\u001b[0m \u001b[0mmessage\u001b[0m\u001b[1;33m.\u001b[0m\u001b[0mtext\u001b[0m \u001b[1;33m==\u001b[0m \u001b[1;34m\"/help\"\u001b[0m\u001b[1;33m:\u001b[0m\u001b[1;33m\u001b[0m\u001b[1;33m\u001b[0m\u001b[0m\n",
      "\u001b[1;32m~\\AppData\\Local\\Temp/ipykernel_14316/3041798885.py\u001b[0m in \u001b[0;36mget_idiom\u001b[1;34m(bot, message)\u001b[0m\n\u001b[0;32m      9\u001b[0m     \u001b[0mbot\u001b[0m\u001b[1;33m.\u001b[0m\u001b[0msend_message\u001b[0m\u001b[1;33m(\u001b[0m\u001b[0mmessage\u001b[0m\u001b[1;33m.\u001b[0m\u001b[0mfrom_user\u001b[0m\u001b[1;33m.\u001b[0m\u001b[0mid\u001b[0m\u001b[1;33m,\u001b[0m \u001b[1;34m\"Meaning is:\"\u001b[0m\u001b[1;33m)\u001b[0m\u001b[1;33m\u001b[0m\u001b[1;33m\u001b[0m\u001b[0m\n\u001b[0;32m     10\u001b[0m     \u001b[0mbot\u001b[0m\u001b[1;33m.\u001b[0m\u001b[0msend_message\u001b[0m\u001b[1;33m(\u001b[0m\u001b[0mmessage\u001b[0m\u001b[1;33m.\u001b[0m\u001b[0mfrom_user\u001b[0m\u001b[1;33m.\u001b[0m\u001b[0mid\u001b[0m\u001b[1;33m,\u001b[0m \u001b[0mrows\u001b[0m\u001b[1;33m[\u001b[0m\u001b[1;36m0\u001b[0m\u001b[1;33m]\u001b[0m\u001b[1;33m[\u001b[0m\u001b[1;36m2\u001b[0m\u001b[1;33m]\u001b[0m\u001b[1;33m)\u001b[0m\u001b[1;33m\u001b[0m\u001b[1;33m\u001b[0m\u001b[0m\n\u001b[1;32m---> 11\u001b[1;33m     \u001b[0msend_eng_logs\u001b[0m\u001b[1;33m(\u001b[0m\u001b[0mmessage\u001b[0m\u001b[1;33m.\u001b[0m\u001b[0mfrom_user\u001b[0m\u001b[1;33m.\u001b[0m\u001b[0mid\u001b[0m\u001b[1;33m,\u001b[0m \u001b[0mrows\u001b[0m\u001b[1;33m[\u001b[0m\u001b[1;36m0\u001b[0m\u001b[1;33m]\u001b[0m\u001b[1;33m[\u001b[0m\u001b[1;36m0\u001b[0m\u001b[1;33m]\u001b[0m\u001b[1;33m)\u001b[0m\u001b[1;33m\u001b[0m\u001b[1;33m\u001b[0m\u001b[0m\n\u001b[0m\u001b[0;32m     12\u001b[0m \u001b[1;33m\u001b[0m\u001b[0m\n\u001b[0;32m     13\u001b[0m     \u001b[0mkeyboard\u001b[0m \u001b[1;33m=\u001b[0m \u001b[0mtypes\u001b[0m\u001b[1;33m.\u001b[0m\u001b[0mInlineKeyboardMarkup\u001b[0m\u001b[1;33m(\u001b[0m\u001b[1;33m)\u001b[0m\u001b[1;33m;\u001b[0m \u001b[1;31m#наша клавиатура\u001b[0m\u001b[1;33m\u001b[0m\u001b[1;33m\u001b[0m\u001b[0m\n",
      "\u001b[1;32m~\\AppData\\Local\\Temp/ipykernel_14316/1244321817.py\u001b[0m in \u001b[0;36msend_eng_logs\u001b[1;34m(user, id)\u001b[0m\n\u001b[0;32m     13\u001b[0m                          \u001b[1;33m{\u001b[0m\u001b[0mdatetime\u001b[0m\u001b[1;33m.\u001b[0m\u001b[0mtoday\u001b[0m\u001b[1;33m(\u001b[0m\u001b[1;33m)\u001b[0m\u001b[1;33m.\u001b[0m\u001b[0mstrftime\u001b[0m\u001b[1;33m(\u001b[0m\u001b[1;34m'%Y-%m-%d %H:%M:%S'\u001b[0m\u001b[1;33m)\u001b[0m\u001b[1;33m}\u001b[0m\u001b[1;33m\u001b[0m\u001b[1;33m\u001b[0m\u001b[0m\n\u001b[0;32m     14\u001b[0m                      )\"\"\"\n\u001b[1;32m---> 15\u001b[1;33m     \u001b[0mcursor\u001b[0m\u001b[1;33m.\u001b[0m\u001b[0mexecute\u001b[0m\u001b[1;33m(\u001b[0m\u001b[0mquery\u001b[0m\u001b[1;33m)\u001b[0m\u001b[1;33m\u001b[0m\u001b[1;33m\u001b[0m\u001b[0m\n\u001b[0m",
      "\u001b[1;31mOperationalError\u001b[0m: near \"21\": syntax error"
     ]
    }
   ],
   "source": [
    "import telebot\n",
    "from telebot import types\n",
    "from random import randrange\n",
    "from deep_translator import GoogleTranslator\n",
    "from functools import partial\n",
    "import sqlite3\n",
    "from datetime import datetime\n",
    "bot = telebot.TeleBot('1978944603:AAEaJUquOIKVaTfMz3P20VverP-EoDA0hy0');\n",
    "@bot.message_handler(content_types=['text'])\n",
    "def get_text_messages(message):\n",
    "    if message.text == \"/Idiom\":\n",
    "        rows = get_idiom(bot, message)\n",
    "    #bot.send_message(message.from_user.id, \"Привет, чем я могу тебе помочь?\")\n",
    "    elif message.text == \"/help\":\n",
    "        bot.send_message(message.from_user.id, \"Напиши /Idiom\")\n",
    "    else:\n",
    "        bot.send_message(message.from_user.id, \"Я тебя не понимаю. Напиши /help.\")\n",
    "    \n",
    "def start_command(message):\n",
    "    bot.send_message(message.chat.id, \"Hallo!\")\n",
    "\n",
    "\n",
    "\n",
    "\n",
    "bot.polling()"
   ]
  },
  {
   "cell_type": "code",
   "execution_count": 36,
   "id": "5a39a782",
   "metadata": {},
   "outputs": [],
   "source": [
    "def get_idiom(bot, message):\n",
    "    conn = sqlite3.connect('C:/Users/andre/Downloads/sqlitestudio-3.3.3/SQLiteStudio/english', check_same_thread=False)\n",
    "    cursor = conn.cursor()\n",
    "    query = f\"Select id, idiom, meaning from idioms_new  where id = {randrange(155)}\"\n",
    "    cursor.execute(query)\n",
    "    rows = cursor.fetchall()\n",
    "    bot.send_message(message.from_user.id, \"Idiom for today:\")\n",
    "    bot.send_message(message.from_user.id, rows[0][1])\n",
    "    bot.send_message(message.from_user.id, \"Meaning is:\")\n",
    "    bot.send_message(message.from_user.id, rows[0][2])\n",
    "    send_eng_logs(message.from_user.id, rows[0][0])\n",
    "    \n",
    "    keyboard = types.InlineKeyboardMarkup(); #наша клавиатура\n",
    "    key_yes = types.InlineKeyboardButton(text='Idiom', callback_data='rus_Idiom'); #кнопка «Да»\n",
    "    keyboard.add(key_yes); #добавляем кнопку в клавиатуру\n",
    "    key_no= types.InlineKeyboardButton(text='Meaning', callback_data='rus_Meaning');\n",
    "    keyboard.add(key_no);\n",
    "    question = 'Need Russian translation?';\n",
    "    bot.send_message(message.from_user.id, text=question, reply_markup=keyboard)\n",
    "    \n",
    "    \n",
    "    @bot.callback_query_handler(func=lambda call: True)\n",
    "    def callback_handler(call):\n",
    "        if call.data == \"rus_Idiom\":\n",
    "            print(rows)\n",
    "            translated = GoogleTranslator(source='auto', target='ru').translate(rows[0][0])\n",
    "            bot.send_message(message.from_user.id, translated)\n",
    "        #bot.send_message(call.message.chat.id, 'Запомню : )');\n",
    "        elif call.data == \"rus_Meaning\":\n",
    "            translated = GoogleTranslator(source='auto', target='ru').translate(rows[0][1])\n",
    "            bot.send_message(message.from_user.id, translated)\n",
    "   # callback_worker(bot, rows)\n",
    "    \n",
    "   # bot.send_message(message.from_user.id, \"In russian Meaning is:\")\n",
    "    #translated = GoogleTranslator(source='auto', target='ru').translate(rows[0][1])\n",
    "    #bot.send_message(message.from_user.id, translated)\n",
    "   # print(rows[0][1])\n",
    "    conn.commit()\n",
    "    ##return rows\n",
    "  \n"
   ]
  },
  {
   "cell_type": "code",
   "execution_count": 45,
   "id": "32976c63",
   "metadata": {},
   "outputs": [],
   "source": [
    "def send_eng_logs(user, id):\n",
    "    conn = sqlite3.connect('C:/Users/andre/Downloads/sqlitestudio-3.3.3/SQLiteStudio/english', check_same_thread=False)\n",
    "    cursor = conn.cursor()\n",
    "    print(datetime.today().strftime('%Y-%m-%d %H:%M:%S'))\n",
    "    query = f\"\"\"INSERT INTO eng_logs (\n",
    "                         user,\n",
    "                         idiom_id,\n",
    "                         timestamp\n",
    "                     )\n",
    "                     VALUES (\n",
    "                         {user},\n",
    "                         {id},\n",
    "                         {datetime.today().strftime('%Y-%m-%d %H:%M:%S')}\n",
    "                     )\"\"\"\n",
    "    cursor.execute(query)"
   ]
  },
  {
   "cell_type": "code",
   "execution_count": 35,
   "id": "bf61e1ac",
   "metadata": {},
   "outputs": [
    {
     "data": {
      "text/plain": [
       "'2021-11-22-21:47:53'"
      ]
     },
     "execution_count": 35,
     "metadata": {},
     "output_type": "execute_result"
    }
   ],
   "source": [
    "\n",
    "datetime.today().strftime('%Y-%m-%d-%H:%M:%S')"
   ]
  },
  {
   "cell_type": "code",
   "execution_count": 17,
   "id": "27b06926",
   "metadata": {},
   "outputs": [],
   "source": [
    "def idiom_translate(bot,call, rows):\n",
    "    if call.data == \"rus_Idiom\": \n",
    "        translated = GoogleTranslator(source='auto', target='ru').translate(rows[0][0])\n",
    "        bot.send_message(message.from_user.id, translated)\n",
    "        #bot.send_message(call.message.chat.id, 'Запомню : )');\n",
    "    elif call.data == \"rus_Meaning\":\n",
    "        translated = GoogleTranslator(source='auto', target='ru').translate(rows[0][1])\n",
    "        bot.send_message(message.from_user.id, translated)"
   ]
  },
  {
   "cell_type": "code",
   "execution_count": 28,
   "id": "05b1aecf",
   "metadata": {},
   "outputs": [],
   "source": [
    "\n",
    "def callback_worker(call, rows):\n",
    "    if call.data == \"Idiom\": \n",
    "        translated = GoogleTranslator(source='auto', target='ru').translate(rows[0][0])\n",
    "        bot.send_message(message.from_user.id, translated)\n",
    "        #bot.send_message(call.message.chat.id, 'Запомню : )');\n",
    "    elif call.data == \"Meaning\":\n",
    "        translated = GoogleTranslator(source='auto', target='ru').translate(rows[0][1])\n",
    "        bot.send_message(message.from_user.id, translated)"
   ]
  },
  {
   "cell_type": "code",
   "execution_count": 3,
   "id": "c4ae3b6c",
   "metadata": {},
   "outputs": [
    {
     "ename": "NameError",
     "evalue": "name 'sqlite3' is not defined",
     "output_type": "error",
     "traceback": [
      "\u001b[1;31m---------------------------------------------------------------------------\u001b[0m",
      "\u001b[1;31mNameError\u001b[0m                                 Traceback (most recent call last)",
      "\u001b[1;32m~\\AppData\\Local\\Temp/ipykernel_15468/1563444901.py\u001b[0m in \u001b[0;36m<module>\u001b[1;34m\u001b[0m\n\u001b[1;32m----> 1\u001b[1;33m \u001b[0mconn\u001b[0m \u001b[1;33m=\u001b[0m \u001b[0msqlite3\u001b[0m\u001b[1;33m.\u001b[0m\u001b[0mconnect\u001b[0m\u001b[1;33m(\u001b[0m\u001b[1;34m'C:/Users/andre/Downloads/sqlitestudio-3.3.3/SQLiteStudio/english'\u001b[0m\u001b[1;33m,\u001b[0m \u001b[0mcheck_same_thread\u001b[0m\u001b[1;33m=\u001b[0m\u001b[1;32mFalse\u001b[0m\u001b[1;33m)\u001b[0m\u001b[1;33m\u001b[0m\u001b[1;33m\u001b[0m\u001b[0m\n\u001b[0m\u001b[0;32m      2\u001b[0m \u001b[0mcursor\u001b[0m \u001b[1;33m=\u001b[0m \u001b[0mconn\u001b[0m\u001b[1;33m.\u001b[0m\u001b[0mcursor\u001b[0m\u001b[1;33m(\u001b[0m\u001b[1;33m)\u001b[0m\u001b[1;33m\u001b[0m\u001b[1;33m\u001b[0m\u001b[0m\n\u001b[0;32m      3\u001b[0m \u001b[0mid\u001b[0m \u001b[1;33m=\u001b[0m \u001b[0mrandrange\u001b[0m\u001b[1;33m(\u001b[0m\u001b[1;36m155\u001b[0m\u001b[1;33m)\u001b[0m\u001b[1;33m\u001b[0m\u001b[1;33m\u001b[0m\u001b[0m\n\u001b[0;32m      4\u001b[0m \u001b[0mprint\u001b[0m\u001b[1;33m(\u001b[0m\u001b[0mtype\u001b[0m\u001b[1;33m(\u001b[0m\u001b[0mid\u001b[0m\u001b[1;33m)\u001b[0m\u001b[1;33m)\u001b[0m\u001b[1;33m\u001b[0m\u001b[1;33m\u001b[0m\u001b[0m\n\u001b[0;32m      5\u001b[0m \u001b[0mprint\u001b[0m\u001b[1;33m(\u001b[0m\u001b[0mid\u001b[0m\u001b[1;33m)\u001b[0m\u001b[1;33m\u001b[0m\u001b[1;33m\u001b[0m\u001b[0m\n",
      "\u001b[1;31mNameError\u001b[0m: name 'sqlite3' is not defined"
     ]
    }
   ],
   "source": [
    "conn = sqlite3.connect('C:/Users/andre/Downloads/sqlitestudio-3.3.3/SQLiteStudio/english', check_same_thread=False)\n",
    "cursor = conn.cursor()\n",
    "id = randrange(155)\n",
    "print(type(id))\n",
    "print(id)\n",
    "query = f\"Select  idiom, meaning from idioms_new  where id = {randrange(155)}\"\n",
    "cursor.execute(query)\n",
    "rows = cursor.fetchall()\n",
    "print(rows[0][1])\n",
    "conn.commit()"
   ]
  },
  {
   "cell_type": "code",
   "execution_count": 17,
   "id": "b1ca6a07",
   "metadata": {},
   "outputs": [
    {
     "name": "stdout",
     "output_type": "stream",
     "text": [
      "a good thing that seemed bad at first\n"
     ]
    }
   ],
   "source": [
    "get_idiom()"
   ]
  },
  {
   "cell_type": "code",
   "execution_count": 6,
   "id": "fd8970fc",
   "metadata": {},
   "outputs": [
    {
     "name": "stdout",
     "output_type": "stream",
     "text": [
      "61\n",
      "Reliability is more important than speed\n"
     ]
    }
   ],
   "source": [
    "\n",
    "print(str(randrange(155)))"
   ]
  },
  {
   "cell_type": "code",
   "execution_count": 20,
   "id": "cadece0d",
   "metadata": {},
   "outputs": [
    {
     "ename": "ModuleNotFoundError",
     "evalue": "No module named 'flask'",
     "output_type": "error",
     "traceback": [
      "\u001b[1;31m---------------------------------------------------------------------------\u001b[0m",
      "\u001b[1;31mModuleNotFoundError\u001b[0m                       Traceback (most recent call last)",
      "\u001b[1;32m~\\AppData\\Local\\Temp/ipykernel_3272/4192703107.py\u001b[0m in \u001b[0;36m<module>\u001b[1;34m\u001b[0m\n\u001b[1;32m----> 1\u001b[1;33m \u001b[1;32mfrom\u001b[0m \u001b[0mflask\u001b[0m \u001b[1;32mimport\u001b[0m \u001b[0mFlask\u001b[0m\u001b[1;33m\u001b[0m\u001b[1;33m\u001b[0m\u001b[0m\n\u001b[0m\u001b[0;32m      2\u001b[0m \u001b[1;33m\u001b[0m\u001b[0m\n\u001b[0;32m      3\u001b[0m \u001b[0mapp\u001b[0m \u001b[1;33m=\u001b[0m \u001b[0mFlask\u001b[0m\u001b[1;33m(\u001b[0m\u001b[0m__name__\u001b[0m\u001b[1;33m)\u001b[0m\u001b[1;33m\u001b[0m\u001b[1;33m\u001b[0m\u001b[0m\n\u001b[0;32m      4\u001b[0m \u001b[1;33m\u001b[0m\u001b[0m\n\u001b[0;32m      5\u001b[0m \u001b[1;33m\u001b[0m\u001b[0m\n",
      "\u001b[1;31mModuleNotFoundError\u001b[0m: No module named 'flask'"
     ]
    }
   ],
   "source": [
    "from flask import Flask\n",
    " \n",
    "app = Flask(__name__)\n",
    "\n",
    "\n",
    "@app.route(\"/\", methods=[\"GET\"])\n",
    "def index():\n",
    "    return \"Hello, World!\"\n",
    " \n",
    " \n",
    "if __name__ == \"__main__\":\n",
    "    app.run()"
   ]
  },
  {
   "cell_type": "code",
   "execution_count": 3,
   "id": "c2bdc661",
   "metadata": {},
   "outputs": [],
   "source": [
    "import sqlite3\n",
    "conn = sqlite3.connect('C:/Users/andre/Downloads/sqlitestudio-3.3.3/SQLiteStudio/english', check_same_thread=False)\n",
    "cursor = conn.cursor()"
   ]
  },
  {
   "cell_type": "code",
   "execution_count": 31,
   "id": "71979150",
   "metadata": {},
   "outputs": [],
   "source": [
    "import requests\n",
    "from bs4 import BeautifulSoup\n",
    "\n",
    "response = requests.get('https://www.ef.com/wwen/english-resources/english-idioms/')\n",
    "soup = BeautifulSoup(response.text, \"html.parser\")\n",
    "\n",
    "tables = soup.findAll('table')\n",
    "for item in tables:\n",
    "    for i in item.findAll('tr'):\n",
    "        #print(i)\n",
    "        if len(i.findAll('td'))> 0:\n",
    "            idiom = i.findAll('td')[0].text.strip()\n",
    "            meaning = i.findAll('td')[1].text.strip()\n",
    "            cursor.execute('INSERT INTO idioms_new (idiom, meaning) VALUES (?, ?)', (idiom, meaning))\n",
    "            conn.commit()\n",
    "            \n",
    "           "
   ]
  },
  {
   "cell_type": "code",
   "execution_count": 27,
   "id": "38559814",
   "metadata": {},
   "outputs": [
    {
     "ename": "OperationalError",
     "evalue": "no such table: english",
     "output_type": "error",
     "traceback": [
      "\u001b[1;31m---------------------------------------------------------------------------\u001b[0m",
      "\u001b[1;31mOperationalError\u001b[0m                          Traceback (most recent call last)",
      "\u001b[1;32m~\\AppData\\Local\\Temp/ipykernel_9916/517341010.py\u001b[0m in \u001b[0;36m<module>\u001b[1;34m\u001b[0m\n\u001b[1;32m----> 1\u001b[1;33m \u001b[0mcursor\u001b[0m\u001b[1;33m.\u001b[0m\u001b[0mexecute\u001b[0m\u001b[1;33m(\u001b[0m\u001b[1;34m\"SELECT name FROM english WHERE type='table'\"\u001b[0m\u001b[1;33m)\u001b[0m\u001b[1;33m\u001b[0m\u001b[1;33m\u001b[0m\u001b[0m\n\u001b[0m",
      "\u001b[1;31mOperationalError\u001b[0m: no such table: english"
     ]
    }
   ],
   "source": [
    "cursor.execute(\"SELECT name FROM english WHERE type='table'\")"
   ]
  },
  {
   "cell_type": "code",
   "execution_count": null,
   "id": "9f30de12",
   "metadata": {},
   "outputs": [],
   "source": [
    "from telegram.ext import Updater, CommandHandler, MessageHandler,    Filters, InlineQueryHandler\n",
    "\n",
    "\n",
    "def sayhi(bot, job):\n",
    "    job.context.message.reply_text(\"hi\")\n",
    "\n",
    "def time(bot, update,job_queue):\n",
    "    job = job_queue.run_repeating(sayhi, 5, context=update)\n",
    "\n",
    "def main():\n",
    "    updater = Updater(\"BOT TOKEN\")\n",
    "    dp = updater.dispatcher\n",
    "    dp.add_handler(MessageHandler(Filters.text , time,pass_job_queue=True))\n",
    "\n",
    "\n",
    "    updater.start_polling()\n",
    "    updater.idle()\n",
    "\n",
    "if __name__ == '__main__':\n",
    "    main()"
   ]
  }
 ],
 "metadata": {
  "kernelspec": {
   "display_name": "Python 3 (ipykernel)",
   "language": "python",
   "name": "python3"
  },
  "language_info": {
   "codemirror_mode": {
    "name": "ipython",
    "version": 3
   },
   "file_extension": ".py",
   "mimetype": "text/x-python",
   "name": "python",
   "nbconvert_exporter": "python",
   "pygments_lexer": "ipython3",
   "version": "3.9.7"
  }
 },
 "nbformat": 4,
 "nbformat_minor": 5
}
